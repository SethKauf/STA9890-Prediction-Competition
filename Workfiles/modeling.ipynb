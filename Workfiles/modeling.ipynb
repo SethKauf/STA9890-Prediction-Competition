{
 "cells": [
  {
   "cell_type": "code",
   "execution_count": 38,
   "metadata": {},
   "outputs": [],
   "source": [
    "import numpy as np\n",
    "import pandas as pd\n",
    "\n",
    "from sklearn.linear_model import Ridge\n",
    "from sklearn.linear_model import RidgeCV\n",
    "from sklearn.metrics import mean_squared_error, get_scorer_names\n",
    "\n",
    "import warnings\n",
    "warnings.filterwarnings('ignore')"
   ]
  },
  {
   "cell_type": "code",
   "execution_count": 4,
   "metadata": {},
   "outputs": [],
   "source": [
    "df = pd.read_csv('../data/PC/train.csv',index_col=None)\n",
    "df.drop(['assessed_2019','building_value_2019','land_value_2019'],axis=1,inplace=True)"
   ]
  },
  {
   "cell_type": "code",
   "execution_count": 5,
   "metadata": {},
   "outputs": [],
   "source": [
    "X = df.drop(columns=['acct','TARGET'])\n",
    "y = df['TARGET']"
   ]
  },
  {
   "cell_type": "markdown",
   "metadata": {},
   "source": [
    "# Ridge CV"
   ]
  },
  {
   "cell_type": "code",
   "execution_count": 6,
   "metadata": {},
   "outputs": [],
   "source": [
    "# Try a range of alpha values\n",
    "alphas = [0.01, 0.1, 1.0, 10.0, 100.0]"
   ]
  },
  {
   "cell_type": "code",
   "execution_count": 32,
   "metadata": {},
   "outputs": [],
   "source": [
    "# Ridge with cross-validation (default 5-fold)\n",
    "ridge_cv = RidgeCV(alphas=alphas, scoring='neg_root_mean_squared_error')"
   ]
  },
  {
   "cell_type": "code",
   "execution_count": 33,
   "metadata": {},
   "outputs": [
    {
     "data": {
      "text/html": [
       "<style>#sk-container-id-2 {color: black;background-color: white;}#sk-container-id-2 pre{padding: 0;}#sk-container-id-2 div.sk-toggleable {background-color: white;}#sk-container-id-2 label.sk-toggleable__label {cursor: pointer;display: block;width: 100%;margin-bottom: 0;padding: 0.3em;box-sizing: border-box;text-align: center;}#sk-container-id-2 label.sk-toggleable__label-arrow:before {content: \"▸\";float: left;margin-right: 0.25em;color: #696969;}#sk-container-id-2 label.sk-toggleable__label-arrow:hover:before {color: black;}#sk-container-id-2 div.sk-estimator:hover label.sk-toggleable__label-arrow:before {color: black;}#sk-container-id-2 div.sk-toggleable__content {max-height: 0;max-width: 0;overflow: hidden;text-align: left;background-color: #f0f8ff;}#sk-container-id-2 div.sk-toggleable__content pre {margin: 0.2em;color: black;border-radius: 0.25em;background-color: #f0f8ff;}#sk-container-id-2 input.sk-toggleable__control:checked~div.sk-toggleable__content {max-height: 200px;max-width: 100%;overflow: auto;}#sk-container-id-2 input.sk-toggleable__control:checked~label.sk-toggleable__label-arrow:before {content: \"▾\";}#sk-container-id-2 div.sk-estimator input.sk-toggleable__control:checked~label.sk-toggleable__label {background-color: #d4ebff;}#sk-container-id-2 div.sk-label input.sk-toggleable__control:checked~label.sk-toggleable__label {background-color: #d4ebff;}#sk-container-id-2 input.sk-hidden--visually {border: 0;clip: rect(1px 1px 1px 1px);clip: rect(1px, 1px, 1px, 1px);height: 1px;margin: -1px;overflow: hidden;padding: 0;position: absolute;width: 1px;}#sk-container-id-2 div.sk-estimator {font-family: monospace;background-color: #f0f8ff;border: 1px dotted black;border-radius: 0.25em;box-sizing: border-box;margin-bottom: 0.5em;}#sk-container-id-2 div.sk-estimator:hover {background-color: #d4ebff;}#sk-container-id-2 div.sk-parallel-item::after {content: \"\";width: 100%;border-bottom: 1px solid gray;flex-grow: 1;}#sk-container-id-2 div.sk-label:hover label.sk-toggleable__label {background-color: #d4ebff;}#sk-container-id-2 div.sk-serial::before {content: \"\";position: absolute;border-left: 1px solid gray;box-sizing: border-box;top: 0;bottom: 0;left: 50%;z-index: 0;}#sk-container-id-2 div.sk-serial {display: flex;flex-direction: column;align-items: center;background-color: white;padding-right: 0.2em;padding-left: 0.2em;position: relative;}#sk-container-id-2 div.sk-item {position: relative;z-index: 1;}#sk-container-id-2 div.sk-parallel {display: flex;align-items: stretch;justify-content: center;background-color: white;position: relative;}#sk-container-id-2 div.sk-item::before, #sk-container-id-2 div.sk-parallel-item::before {content: \"\";position: absolute;border-left: 1px solid gray;box-sizing: border-box;top: 0;bottom: 0;left: 50%;z-index: -1;}#sk-container-id-2 div.sk-parallel-item {display: flex;flex-direction: column;z-index: 1;position: relative;background-color: white;}#sk-container-id-2 div.sk-parallel-item:first-child::after {align-self: flex-end;width: 50%;}#sk-container-id-2 div.sk-parallel-item:last-child::after {align-self: flex-start;width: 50%;}#sk-container-id-2 div.sk-parallel-item:only-child::after {width: 0;}#sk-container-id-2 div.sk-dashed-wrapped {border: 1px dashed gray;margin: 0 0.4em 0.5em 0.4em;box-sizing: border-box;padding-bottom: 0.4em;background-color: white;}#sk-container-id-2 div.sk-label label {font-family: monospace;font-weight: bold;display: inline-block;line-height: 1.2em;}#sk-container-id-2 div.sk-label-container {text-align: center;}#sk-container-id-2 div.sk-container {/* jupyter's `normalize.less` sets `[hidden] { display: none; }` but bootstrap.min.css set `[hidden] { display: none !important; }` so we also need the `!important` here to be able to override the default hidden behavior on the sphinx rendered scikit-learn.org. See: https://github.com/scikit-learn/scikit-learn/issues/21755 */display: inline-block !important;position: relative;}#sk-container-id-2 div.sk-text-repr-fallback {display: none;}</style><div id=\"sk-container-id-2\" class=\"sk-top-container\"><div class=\"sk-text-repr-fallback\"><pre>RidgeCV(alphas=[0.01, 0.1, 1.0, 10.0, 100.0],\n",
       "        scoring=&#x27;neg_root_mean_squared_error&#x27;)</pre><b>In a Jupyter environment, please rerun this cell to show the HTML representation or trust the notebook. <br />On GitHub, the HTML representation is unable to render, please try loading this page with nbviewer.org.</b></div><div class=\"sk-container\" hidden><div class=\"sk-item\"><div class=\"sk-estimator sk-toggleable\"><input class=\"sk-toggleable__control sk-hidden--visually\" id=\"sk-estimator-id-2\" type=\"checkbox\" checked><label for=\"sk-estimator-id-2\" class=\"sk-toggleable__label sk-toggleable__label-arrow\">RidgeCV</label><div class=\"sk-toggleable__content\"><pre>RidgeCV(alphas=[0.01, 0.1, 1.0, 10.0, 100.0],\n",
       "        scoring=&#x27;neg_root_mean_squared_error&#x27;)</pre></div></div></div></div></div>"
      ],
      "text/plain": [
       "RidgeCV(alphas=[0.01, 0.1, 1.0, 10.0, 100.0],\n",
       "        scoring='neg_root_mean_squared_error')"
      ]
     },
     "execution_count": 33,
     "metadata": {},
     "output_type": "execute_result"
    }
   ],
   "source": [
    "ridge_cv.fit(X, y)"
   ]
  },
  {
   "cell_type": "code",
   "execution_count": 34,
   "metadata": {},
   "outputs": [
    {
     "name": "stdout",
     "output_type": "stream",
     "text": [
      "Best alpha (Ridge): 0.01\n",
      "Train RMSE (Ridge): 485246960543.1921\n"
     ]
    }
   ],
   "source": [
    "# Best alpha\n",
    "print(f\"Best alpha (Ridge): {ridge_cv.alpha_}\")\n",
    "\n",
    "# RMSE on training data\n",
    "y_pred = ridge_cv.predict(X)\n",
    "rmse = np.sqrt(mean_squared_error(y, y_pred))\n",
    "print(f\"Train RMSE (Ridge): {rmse:.4f}\")"
   ]
  },
  {
   "cell_type": "code",
   "execution_count": 29,
   "metadata": {},
   "outputs": [],
   "source": [
    "test = pd.read_csv('../data/PC/test.csv',index_col=None)"
   ]
  },
  {
   "cell_type": "code",
   "execution_count": 30,
   "metadata": {},
   "outputs": [],
   "source": [
    "X_test = test.drop(columns=['acct'])  # or drop other non-feature cols\n",
    "acct_ids = test['acct']               # store acct ID"
   ]
  },
  {
   "cell_type": "code",
   "execution_count": null,
   "metadata": {},
   "outputs": [],
   "source": [
    "y_pred = ridge_cv.predict(X_test)"
   ]
  },
  {
   "cell_type": "markdown",
   "metadata": {},
   "source": [
    "# LASSO ($\\ell_1$)"
   ]
  },
  {
   "cell_type": "code",
   "execution_count": 37,
   "metadata": {},
   "outputs": [
    {
     "name": "stderr",
     "output_type": "stream",
     "text": [
      "C:\\Users\\sethk\\anaconda3\\envs\\advent\\lib\\site-packages\\sklearn\\linear_model\\_coordinate_descent.py:634: ConvergenceWarning: Objective did not converge. You might want to increase the number of iterations. Duality gap: 459801273717013.25, tolerance: 5038755442665.565\n",
      "  model = cd_fast.enet_coordinate_descent_gram(\n",
      "C:\\Users\\sethk\\anaconda3\\envs\\advent\\lib\\site-packages\\sklearn\\linear_model\\_coordinate_descent.py:634: ConvergenceWarning: Objective did not converge. You might want to increase the number of iterations. Duality gap: 451782590262519.56, tolerance: 5038755442665.565\n",
      "  model = cd_fast.enet_coordinate_descent_gram(\n",
      "C:\\Users\\sethk\\anaconda3\\envs\\advent\\lib\\site-packages\\sklearn\\linear_model\\_coordinate_descent.py:634: ConvergenceWarning: Objective did not converge. You might want to increase the number of iterations. Duality gap: 445862003345523.25, tolerance: 5038755442665.565\n",
      "  model = cd_fast.enet_coordinate_descent_gram(\n",
      "C:\\Users\\sethk\\anaconda3\\envs\\advent\\lib\\site-packages\\sklearn\\linear_model\\_coordinate_descent.py:634: ConvergenceWarning: Objective did not converge. You might want to increase the number of iterations. Duality gap: 440926108355609.9, tolerance: 5038755442665.565\n",
      "  model = cd_fast.enet_coordinate_descent_gram(\n",
      "C:\\Users\\sethk\\anaconda3\\envs\\advent\\lib\\site-packages\\sklearn\\linear_model\\_coordinate_descent.py:634: ConvergenceWarning: Objective did not converge. You might want to increase the number of iterations. Duality gap: 437703623297503.4, tolerance: 5038755442665.565\n",
      "  model = cd_fast.enet_coordinate_descent_gram(\n",
      "C:\\Users\\sethk\\anaconda3\\envs\\advent\\lib\\site-packages\\sklearn\\linear_model\\_coordinate_descent.py:634: ConvergenceWarning: Objective did not converge. You might want to increase the number of iterations. Duality gap: 479844015838333.5, tolerance: 5075444629593.907\n",
      "  model = cd_fast.enet_coordinate_descent_gram(\n",
      "C:\\Users\\sethk\\anaconda3\\envs\\advent\\lib\\site-packages\\sklearn\\linear_model\\_coordinate_descent.py:634: ConvergenceWarning: Objective did not converge. You might want to increase the number of iterations. Duality gap: 470833485350355.9, tolerance: 5075444629593.907\n",
      "  model = cd_fast.enet_coordinate_descent_gram(\n",
      "C:\\Users\\sethk\\anaconda3\\envs\\advent\\lib\\site-packages\\sklearn\\linear_model\\_coordinate_descent.py:634: ConvergenceWarning: Objective did not converge. You might want to increase the number of iterations. Duality gap: 465087820326285.8, tolerance: 5075444629593.907\n",
      "  model = cd_fast.enet_coordinate_descent_gram(\n",
      "C:\\Users\\sethk\\anaconda3\\envs\\advent\\lib\\site-packages\\sklearn\\linear_model\\_coordinate_descent.py:634: ConvergenceWarning: Objective did not converge. You might want to increase the number of iterations. Duality gap: 460412842072028.6, tolerance: 5075444629593.907\n",
      "  model = cd_fast.enet_coordinate_descent_gram(\n",
      "C:\\Users\\sethk\\anaconda3\\envs\\advent\\lib\\site-packages\\sklearn\\linear_model\\_coordinate_descent.py:634: ConvergenceWarning: Objective did not converge. You might want to increase the number of iterations. Duality gap: 457553931841755.8, tolerance: 5075444629593.907\n",
      "  model = cd_fast.enet_coordinate_descent_gram(\n",
      "C:\\Users\\sethk\\anaconda3\\envs\\advent\\lib\\site-packages\\sklearn\\linear_model\\_coordinate_descent.py:634: ConvergenceWarning: Objective did not converge. You might want to increase the number of iterations. Duality gap: 477223151276270.06, tolerance: 5033186584007.139\n",
      "  model = cd_fast.enet_coordinate_descent_gram(\n",
      "C:\\Users\\sethk\\anaconda3\\envs\\advent\\lib\\site-packages\\sklearn\\linear_model\\_coordinate_descent.py:634: ConvergenceWarning: Objective did not converge. You might want to increase the number of iterations. Duality gap: 467696318449266.2, tolerance: 5033186584007.139\n",
      "  model = cd_fast.enet_coordinate_descent_gram(\n",
      "C:\\Users\\sethk\\anaconda3\\envs\\advent\\lib\\site-packages\\sklearn\\linear_model\\_coordinate_descent.py:634: ConvergenceWarning: Objective did not converge. You might want to increase the number of iterations. Duality gap: 461664517938667.6, tolerance: 5033186584007.139\n",
      "  model = cd_fast.enet_coordinate_descent_gram(\n",
      "C:\\Users\\sethk\\anaconda3\\envs\\advent\\lib\\site-packages\\sklearn\\linear_model\\_coordinate_descent.py:634: ConvergenceWarning: Objective did not converge. You might want to increase the number of iterations. Duality gap: 456961333015864.8, tolerance: 5033186584007.139\n",
      "  model = cd_fast.enet_coordinate_descent_gram(\n",
      "C:\\Users\\sethk\\anaconda3\\envs\\advent\\lib\\site-packages\\sklearn\\linear_model\\_coordinate_descent.py:634: ConvergenceWarning: Objective did not converge. You might want to increase the number of iterations. Duality gap: 454085244816951.06, tolerance: 5033186584007.139\n",
      "  model = cd_fast.enet_coordinate_descent_gram(\n",
      "C:\\Users\\sethk\\anaconda3\\envs\\advent\\lib\\site-packages\\sklearn\\linear_model\\_coordinate_descent.py:634: ConvergenceWarning: Objective did not converge. You might want to increase the number of iterations. Duality gap: 472606644246801.75, tolerance: 4989258473351.8545\n",
      "  model = cd_fast.enet_coordinate_descent_gram(\n",
      "C:\\Users\\sethk\\anaconda3\\envs\\advent\\lib\\site-packages\\sklearn\\linear_model\\_coordinate_descent.py:634: ConvergenceWarning: Objective did not converge. You might want to increase the number of iterations. Duality gap: 463464464203225.94, tolerance: 4989258473351.8545\n",
      "  model = cd_fast.enet_coordinate_descent_gram(\n",
      "C:\\Users\\sethk\\anaconda3\\envs\\advent\\lib\\site-packages\\sklearn\\linear_model\\_coordinate_descent.py:634: ConvergenceWarning: Objective did not converge. You might want to increase the number of iterations. Duality gap: 457984124813171.5, tolerance: 4989258473351.8545\n",
      "  model = cd_fast.enet_coordinate_descent_gram(\n",
      "C:\\Users\\sethk\\anaconda3\\envs\\advent\\lib\\site-packages\\sklearn\\linear_model\\_coordinate_descent.py:634: ConvergenceWarning: Objective did not converge. You might want to increase the number of iterations. Duality gap: 453569174230004.56, tolerance: 4989258473351.8545\n",
      "  model = cd_fast.enet_coordinate_descent_gram(\n",
      "C:\\Users\\sethk\\anaconda3\\envs\\advent\\lib\\site-packages\\sklearn\\linear_model\\_coordinate_descent.py:634: ConvergenceWarning: Objective did not converge. You might want to increase the number of iterations. Duality gap: 450782584277681.7, tolerance: 4989258473351.8545\n",
      "  model = cd_fast.enet_coordinate_descent_gram(\n",
      "C:\\Users\\sethk\\anaconda3\\envs\\advent\\lib\\site-packages\\sklearn\\linear_model\\_coordinate_descent.py:634: ConvergenceWarning: Objective did not converge. You might want to increase the number of iterations. Duality gap: 456430244635000.44, tolerance: 5016859699640.248\n",
      "  model = cd_fast.enet_coordinate_descent_gram(\n",
      "C:\\Users\\sethk\\anaconda3\\envs\\advent\\lib\\site-packages\\sklearn\\linear_model\\_coordinate_descent.py:634: ConvergenceWarning: Objective did not converge. You might want to increase the number of iterations. Duality gap: 447604135646316.2, tolerance: 5016859699640.248\n",
      "  model = cd_fast.enet_coordinate_descent_gram(\n",
      "C:\\Users\\sethk\\anaconda3\\envs\\advent\\lib\\site-packages\\sklearn\\linear_model\\_coordinate_descent.py:634: ConvergenceWarning: Objective did not converge. You might want to increase the number of iterations. Duality gap: 442458562373334.56, tolerance: 5016859699640.248\n",
      "  model = cd_fast.enet_coordinate_descent_gram(\n",
      "C:\\Users\\sethk\\anaconda3\\envs\\advent\\lib\\site-packages\\sklearn\\linear_model\\_coordinate_descent.py:634: ConvergenceWarning: Objective did not converge. You might want to increase the number of iterations. Duality gap: 438388938449302.4, tolerance: 5016859699640.248\n",
      "  model = cd_fast.enet_coordinate_descent_gram(\n",
      "C:\\Users\\sethk\\anaconda3\\envs\\advent\\lib\\site-packages\\sklearn\\linear_model\\_coordinate_descent.py:634: ConvergenceWarning: Objective did not converge. You might want to increase the number of iterations. Duality gap: 435562688669101.25, tolerance: 5016859699640.248\n",
      "  model = cd_fast.enet_coordinate_descent_gram(\n",
      "C:\\Users\\sethk\\anaconda3\\envs\\advent\\lib\\site-packages\\sklearn\\linear_model\\_coordinate_descent.py:648: ConvergenceWarning: Objective did not converge. You might want to increase the number of iterations, check the scale of the features or consider increasing regularisation. Duality gap: 5.874e+14, tolerance: 6.288e+12\n",
      "  model = cd_fast.enet_coordinate_descent(\n"
     ]
    },
    {
     "name": "stdout",
     "output_type": "stream",
     "text": [
      "Best alpha (Lasso): 10.0\n",
      "Non-zero features: 101 / 125\n",
      "Train RMSE (Lasso): 43164.6058\n"
     ]
    }
   ],
   "source": [
    "from sklearn.linear_model import LassoCV\n",
    "\n",
    "lasso_cv = LassoCV(alphas=[0.001, 0.01, 0.1, 1.0, 10], cv=5)\n",
    "lasso_cv.fit(X, y)\n",
    "\n",
    "print(f\"Best alpha (Lasso): {lasso_cv.alpha_}\")\n",
    "print(f\"Non-zero features: {(lasso_cv.coef_ != 0).sum()} / {len(lasso_cv.coef_)}\")\n",
    "\n",
    "y_pred = lasso_cv.predict(X)\n",
    "rmse = np.sqrt(mean_squared_error(y, y_pred))\n",
    "print(f\"Train RMSE (Lasso): {rmse:.4f}\")"
   ]
  },
  {
   "cell_type": "code",
   "execution_count": 40,
   "metadata": {},
   "outputs": [],
   "source": [
    "X_test = test.drop(columns=['acct'])  # or drop other non-feature cols\n",
    "acct_ids = test['acct']               # store acct ID"
   ]
  },
  {
   "cell_type": "code",
   "execution_count": 41,
   "metadata": {},
   "outputs": [],
   "source": [
    "y_pred = lasso_cv.predict(X_test)"
   ]
  },
  {
   "cell_type": "code",
   "execution_count": 42,
   "metadata": {},
   "outputs": [],
   "source": [
    "output_df = pd.DataFrame({\n",
    "    'acct': acct_ids,\n",
    "    'TARGET': y_pred\n",
    "})"
   ]
  },
  {
   "cell_type": "code",
   "execution_count": 45,
   "metadata": {},
   "outputs": [],
   "source": [
    "output_df.rename({'acct':'ACCOUNT'},axis=1,inplace=True)"
   ]
  },
  {
   "cell_type": "code",
   "execution_count": 46,
   "metadata": {},
   "outputs": [],
   "source": [
    "output_df = output_df.drop_duplicates(subset='ACCOUNT')"
   ]
  },
  {
   "cell_type": "code",
   "execution_count": 47,
   "metadata": {},
   "outputs": [],
   "source": [
    "output_df.reset_index(inplace=True,drop=True)"
   ]
  },
  {
   "cell_type": "code",
   "execution_count": 50,
   "metadata": {},
   "outputs": [],
   "source": [
    "output_df.to_csv('prediction_3.csv',index=None)"
   ]
  }
 ],
 "metadata": {
  "kernelspec": {
   "display_name": "Advent Python=3.10.0",
   "language": "python",
   "name": "advent"
  },
  "language_info": {
   "codemirror_mode": {
    "name": "ipython",
    "version": 3
   },
   "file_extension": ".py",
   "mimetype": "text/x-python",
   "name": "python",
   "nbconvert_exporter": "python",
   "pygments_lexer": "ipython3",
   "version": "3.10.0"
  }
 },
 "nbformat": 4,
 "nbformat_minor": 4
}
