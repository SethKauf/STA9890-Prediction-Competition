{
 "cells": [
  {
   "cell_type": "code",
   "execution_count": 1,
   "metadata": {},
   "outputs": [],
   "source": [
    "%load_ext autoreload\n",
    "%autoreload 2\n",
    "\n",
    "import numpy as np\n",
    "import pandas as pd\n",
    "import warnings\n",
    "import src.workfile_functions as wf\n",
    "\n",
    "warnings.filterwarnings('ignore')\n",
    "\n",
    "pd.set_option('display.max_columns',50)\n",
    "pd.set_option('display.max_rows',100)\n",
    "\n",
    "PATH = '../data/pc/'\n",
    "\n",
    "URL = \"https://michael-weylandt.com/STA9890/competition_data/\""
   ]
  },
  {
   "cell_type": "code",
   "execution_count": 2,
   "metadata": {},
   "outputs": [],
   "source": [
    "# read in from prof's website\n",
    "BUILDING_DETAILS_2015 = wf.read_gh(URL, \"building_details_2015.csv.gz\")\n",
    "BUILDING_DETAILS_2016 = wf.read_gh(URL, \"building_details_2016.csv.gz\")\n",
    "BUILDING_DETAILS_2017 = wf.read_gh(URL, \"building_details_2017.csv.gz\")\n",
    "BUILDING_DETAILS_2018 = wf.read_gh(URL, \"building_details_2018.csv.gz\")\n",
    "BUILDING_DETAILS_2019 = wf.read_gh(URL, \"building_details_2019.csv.gz\")"
   ]
  },
  {
   "cell_type": "code",
   "execution_count": 3,
   "metadata": {},
   "outputs": [],
   "source": [
    "TRAINING_SAMPLES = wf.read_gh(URL,\"assessment_history_train.csv.gz\")\n",
    "TEST_POINTS = wf.read_gh(URL,\"assessment_history_test.csv.gz\")"
   ]
  },
  {
   "cell_type": "code",
   "execution_count": null,
   "metadata": {},
   "outputs": [],
   "source": [
    "df15 = wf.clean_building_dfs(BUILDING_DETAILS_2015)"
   ]
  },
  {
   "cell_type": "code",
   "execution_count": null,
   "metadata": {},
   "outputs": [],
   "source": [
    "df16 = wf.clean_building_dfs(BUILDING_DETAILS_2016)"
   ]
  },
  {
   "cell_type": "code",
   "execution_count": null,
   "metadata": {},
   "outputs": [],
   "source": [
    "df17 = wf.clean_building_dfs(BUILDING_DETAILS_2017)"
   ]
  },
  {
   "cell_type": "code",
   "execution_count": null,
   "metadata": {},
   "outputs": [],
   "source": [
    "df18 = wf.clean_building_dfs(BUILDING_DETAILS_2018)"
   ]
  },
  {
   "cell_type": "code",
   "execution_count": null,
   "metadata": {},
   "outputs": [],
   "source": [
    "df19 = wf.clean_building_dfs(BUILDING_DETAILS_2019)"
   ]
  },
  {
   "cell_type": "markdown",
   "metadata": {},
   "source": [
    "# Combine Data"
   ]
  },
  {
   "cell_type": "code",
   "execution_count": 9,
   "metadata": {},
   "outputs": [
    {
     "data": {
      "text/html": [
       "<div>\n",
       "<style scoped>\n",
       "    .dataframe tbody tr th:only-of-type {\n",
       "        vertical-align: middle;\n",
       "    }\n",
       "\n",
       "    .dataframe tbody tr th {\n",
       "        vertical-align: top;\n",
       "    }\n",
       "\n",
       "    .dataframe thead th {\n",
       "        text-align: right;\n",
       "    }\n",
       "</style>\n",
       "<table border=\"1\" class=\"dataframe\">\n",
       "  <thead>\n",
       "    <tr style=\"text-align: right;\">\n",
       "      <th></th>\n",
       "      <th>acct</th>\n",
       "      <th>floor_area_primary</th>\n",
       "      <th>floor_area_upper</th>\n",
       "      <th>floor_area_lower</th>\n",
       "      <th>garage_area</th>\n",
       "      <th>porch_area</th>\n",
       "      <th>deck_area</th>\n",
       "      <th>mobile_home_area</th>\n",
       "      <th>floors</th>\n",
       "      <th>half_bath</th>\n",
       "      <th>full_bath</th>\n",
       "      <th>total_rooms</th>\n",
       "      <th>bedrooms</th>\n",
       "      <th>fireplaces</th>\n",
       "      <th>elevator</th>\n",
       "      <th>quality</th>\n",
       "      <th>quality_description</th>\n",
       "      <th>year_built</th>\n",
       "      <th>year_remodeled</th>\n",
       "      <th>building_condition</th>\n",
       "      <th>grade</th>\n",
       "      <th>has_cooling</th>\n",
       "      <th>has_heat</th>\n",
       "      <th>physical_condition</th>\n",
       "      <th>year</th>\n",
       "      <th>foundation_Basement</th>\n",
       "      <th>foundation_Crawl Space</th>\n",
       "      <th>foundation_Mixed</th>\n",
       "      <th>foundation_Slab</th>\n",
       "      <th>brick_veneer</th>\n",
       "      <th>brick_masonry</th>\n",
       "      <th>concrete_block</th>\n",
       "      <th>vinyl</th>\n",
       "      <th>stucco</th>\n",
       "      <th>stone</th>\n",
       "      <th>other</th>\n",
       "    </tr>\n",
       "  </thead>\n",
       "  <tbody>\n",
       "    <tr>\n",
       "      <th>0</th>\n",
       "      <td>bb75f25168addc1117840b10c0fd6cd0c2a7b7c6</td>\n",
       "      <td>1658.0</td>\n",
       "      <td>879.0</td>\n",
       "      <td>0.0</td>\n",
       "      <td>0.0</td>\n",
       "      <td>266.0</td>\n",
       "      <td>0.0</td>\n",
       "      <td>0.0</td>\n",
       "      <td>2.0</td>\n",
       "      <td>1.0</td>\n",
       "      <td>2.0</td>\n",
       "      <td>8.0</td>\n",
       "      <td>3.0</td>\n",
       "      <td>0.0</td>\n",
       "      <td>0</td>\n",
       "      <td>4.0</td>\n",
       "      <td>4.0</td>\n",
       "      <td>2004.0</td>\n",
       "      <td>0.0</td>\n",
       "      <td>3.0</td>\n",
       "      <td>4.3</td>\n",
       "      <td>1</td>\n",
       "      <td>1</td>\n",
       "      <td>3.0</td>\n",
       "      <td>2015.0</td>\n",
       "      <td>0</td>\n",
       "      <td>0</td>\n",
       "      <td>0</td>\n",
       "      <td>1</td>\n",
       "      <td>0</td>\n",
       "      <td>0</td>\n",
       "      <td>0</td>\n",
       "      <td>0</td>\n",
       "      <td>1</td>\n",
       "      <td>0</td>\n",
       "      <td>0</td>\n",
       "    </tr>\n",
       "  </tbody>\n",
       "</table>\n",
       "</div>"
      ],
      "text/plain": [
       "                                       acct  floor_area_primary  \\\n",
       "0  bb75f25168addc1117840b10c0fd6cd0c2a7b7c6              1658.0   \n",
       "\n",
       "   floor_area_upper  floor_area_lower  garage_area  porch_area  deck_area  \\\n",
       "0             879.0               0.0          0.0       266.0        0.0   \n",
       "\n",
       "   mobile_home_area  floors  half_bath  full_bath  total_rooms  bedrooms  \\\n",
       "0               0.0     2.0        1.0        2.0          8.0       3.0   \n",
       "\n",
       "   fireplaces  elevator  quality  quality_description  year_built  \\\n",
       "0         0.0         0      4.0                  4.0      2004.0   \n",
       "\n",
       "   year_remodeled  building_condition  grade  has_cooling  has_heat  \\\n",
       "0             0.0                 3.0    4.3            1         1   \n",
       "\n",
       "   physical_condition    year  foundation_Basement  foundation_Crawl Space  \\\n",
       "0                 3.0  2015.0                    0                       0   \n",
       "\n",
       "   foundation_Mixed  foundation_Slab  brick_veneer  brick_masonry  \\\n",
       "0                 0                1             0              0   \n",
       "\n",
       "   concrete_block  vinyl  stucco  stone  other  \n",
       "0               0      0       1      0      0  "
      ]
     },
     "execution_count": 9,
     "metadata": {},
     "output_type": "execute_result"
    }
   ],
   "source": [
    "df15[df15['acct']=='bb75f25168addc1117840b10c0fd6cd0c2a7b7c6']"
   ]
  },
  {
   "cell_type": "code",
   "execution_count": null,
   "metadata": {},
   "outputs": [],
   "source": [
    "df_long = df15[['acct']].copy()\n",
    "df_long['year'] = 2015"
   ]
  },
  {
   "cell_type": "code",
   "execution_count": 11,
   "metadata": {},
   "outputs": [
    {
     "data": {
      "text/html": [
       "<div>\n",
       "<style scoped>\n",
       "    .dataframe tbody tr th:only-of-type {\n",
       "        vertical-align: middle;\n",
       "    }\n",
       "\n",
       "    .dataframe tbody tr th {\n",
       "        vertical-align: top;\n",
       "    }\n",
       "\n",
       "    .dataframe thead th {\n",
       "        text-align: right;\n",
       "    }\n",
       "</style>\n",
       "<table border=\"1\" class=\"dataframe\">\n",
       "  <thead>\n",
       "    <tr style=\"text-align: right;\">\n",
       "      <th></th>\n",
       "      <th>acct</th>\n",
       "      <th>year</th>\n",
       "    </tr>\n",
       "  </thead>\n",
       "  <tbody>\n",
       "    <tr>\n",
       "      <th>0</th>\n",
       "      <td>bb75f25168addc1117840b10c0fd6cd0c2a7b7c6</td>\n",
       "      <td>2015</td>\n",
       "    </tr>\n",
       "    <tr>\n",
       "      <th>1</th>\n",
       "      <td>5dd766a35cebbcbfa063316adb679131dbb9f92c</td>\n",
       "      <td>2015</td>\n",
       "    </tr>\n",
       "    <tr>\n",
       "      <th>2</th>\n",
       "      <td>8def0ccceda200b673872a8a9367644767989f3b</td>\n",
       "      <td>2015</td>\n",
       "    </tr>\n",
       "    <tr>\n",
       "      <th>3</th>\n",
       "      <td>7592093bcff4a8463064ccc1ead39e6dbdb819c9</td>\n",
       "      <td>2015</td>\n",
       "    </tr>\n",
       "    <tr>\n",
       "      <th>4</th>\n",
       "      <td>ca33e57b3b13e843909f4b6cbd9a3410387bd45a</td>\n",
       "      <td>2015</td>\n",
       "    </tr>\n",
       "  </tbody>\n",
       "</table>\n",
       "</div>"
      ],
      "text/plain": [
       "                                       acct  year\n",
       "0  bb75f25168addc1117840b10c0fd6cd0c2a7b7c6  2015\n",
       "1  5dd766a35cebbcbfa063316adb679131dbb9f92c  2015\n",
       "2  8def0ccceda200b673872a8a9367644767989f3b  2015\n",
       "3  7592093bcff4a8463064ccc1ead39e6dbdb819c9  2015\n",
       "4  ca33e57b3b13e843909f4b6cbd9a3410387bd45a  2015"
      ]
     },
     "execution_count": 11,
     "metadata": {},
     "output_type": "execute_result"
    }
   ],
   "source": [
    "df_long.head()"
   ]
  },
  {
   "cell_type": "code",
   "execution_count": null,
   "metadata": {},
   "outputs": [],
   "source": [
    "def append_new_accts(df_base, df_new, year):\n",
    "    existing_accts = set(df_base['acct'])\n",
    "    new_entries = df_new[~df_new['acct'].isin(existing_accts)][['acct']].copy()\n",
    "    new_entries['year'] = year\n",
    "    return pd.concat([df_base,new_entries],ignore_index=True)"
   ]
  },
  {
   "cell_type": "code",
   "execution_count": null,
   "metadata": {},
   "outputs": [],
   "source": [
    "for df, yr in zip([df16, df17, df18, df19], [2016, 2017, 2018, 2019]):\n",
    "    df_long = append_new_accts(df_long, df, yr)"
   ]
  },
  {
   "cell_type": "code",
   "execution_count": 11,
   "metadata": {},
   "outputs": [
    {
     "data": {
      "text/plain": [
       "year\n",
       "2015    990765\n",
       "2016     15355\n",
       "2018     14498\n",
       "2017     14037\n",
       "2019     12275\n",
       "Name: count, dtype: int64"
      ]
     },
     "execution_count": 11,
     "metadata": {},
     "output_type": "execute_result"
    }
   ],
   "source": [
    "df_long['year'].value_counts()"
   ]
  },
  {
   "cell_type": "code",
   "execution_count": 15,
   "metadata": {},
   "outputs": [
    {
     "data": {
      "text/plain": [
       "year_built\n",
       "2006.0    31296\n",
       "2005.0    30642\n",
       "1950.0    29883\n",
       "1983.0    29408\n",
       "1978.0    26539\n",
       "          ...  \n",
       "1843.0        1\n",
       "1886.0        1\n",
       "1830.0        1\n",
       "1873.0        1\n",
       "1849.0        1\n",
       "Name: count, Length: 152, dtype: int64"
      ]
     },
     "execution_count": 15,
     "metadata": {},
     "output_type": "execute_result"
    }
   ],
   "source": [
    "df.year_built.value_counts()"
   ]
  },
  {
   "cell_type": "code",
   "execution_count": 16,
   "metadata": {},
   "outputs": [
    {
     "data": {
      "text/plain": [
       "Index(['acct', 'floor_area_primary', 'floor_area_upper', 'floor_area_lower',\n",
       "       'garage_area', 'porch_area', 'deck_area', 'mobile_home_area', 'floors',\n",
       "       'half_bath', 'full_bath', 'total_rooms', 'bedrooms', 'fireplaces',\n",
       "       'elevator', 'quality', 'quality_description', 'year_built',\n",
       "       'year_remodeled', 'building_condition', 'grade', 'has_cooling',\n",
       "       'has_heat', 'physical_condition', 'year', 'foundation_Basement',\n",
       "       'foundation_Crawl Space', 'foundation_Mixed', 'foundation_Slab',\n",
       "       'brick_veneer', 'brick_masonry', 'concrete_block', 'vinyl', 'stucco',\n",
       "       'stone', 'other'],\n",
       "      dtype='object')"
      ]
     },
     "execution_count": 16,
     "metadata": {},
     "output_type": "execute_result"
    }
   ],
   "source": [
    "df.columns"
   ]
  },
  {
   "cell_type": "code",
   "execution_count": null,
   "metadata": {},
   "outputs": [],
   "source": [
    "static_cols = [\n",
    "    'year_built',\n",
    "    'foundation_Basement',\n",
    "    'foundation_Crawl Space',\n",
    "    'foundation_Slab',\n",
    "    'foundation_Mixed'    \n",
    "]"
   ]
  },
  {
   "cell_type": "code",
   "execution_count": null,
   "metadata": {},
   "outputs": [],
   "source": [
    "year_df_map = {\n",
    "    2015: df15,\n",
    "    2016: df16,\n",
    "    2017: df17,\n",
    "    2018: df18,\n",
    "    2019: df19\n",
    "}"
   ]
  },
  {
   "cell_type": "code",
   "execution_count": null,
   "metadata": {},
   "outputs": [],
   "source": [
    "for col in static_cols:\n",
    "    df_long[col] = np.nan"
   ]
  },
  {
   "cell_type": "code",
   "execution_count": null,
   "metadata": {},
   "outputs": [],
   "source": [
    "for year, df_source in year_df_map.items():\n",
    "    # Get only accounts from df_long for that year\n",
    "    acct_subset = df_long[df_long['year'] == year][['acct']]\n",
    "\n",
    "    # Pull static columns from the matching year's DataFrame\n",
    "    df_extract = df_source[['acct'] + static_cols]\n",
    "\n",
    "    # Merge on acct (only updates matching rows)\n",
    "    df_long = df_long.merge(df_extract, on='acct', how='left', suffixes=('', '_tmp'))\n",
    "\n",
    "    # Only assign static values where year matches (to avoid overwriting)\n",
    "    for col in static_cols:\n",
    "        df_long.loc[df_long['year'] == year, col] = df_long.loc[df_long['year'] == year, f'{col}_tmp']\n",
    "        df_long.drop(columns=[f'{col}_tmp'], inplace=True)\n"
   ]
  },
  {
   "cell_type": "code",
   "execution_count": null,
   "metadata": {},
   "outputs": [],
   "source": [
    "df_long"
   ]
  },
  {
   "cell_type": "code",
   "execution_count": null,
   "metadata": {},
   "outputs": [],
   "source": [
    "all_columns = df15.columns.tolist()\n",
    "exclude_cols = ['acct', 'year'] + static_cols  # static_cols from before\n",
    "first_cols = [col for col in all_columns if col not in exclude_cols]"
   ]
  },
  {
   "cell_type": "code",
   "execution_count": null,
   "metadata": {},
   "outputs": [],
   "source": [
    "for year, df_source in year_df_map.items():\n",
    "    acct_subset = df_long[df_long['year'] == year][['acct']]\n",
    "\n",
    "    # Pull and rename first_cols → tmp cols\n",
    "    df_extract = df_source[['acct'] + first_cols].copy()\n",
    "    df_extract.rename(columns={col: f\"{col}_tmp\" for col in first_cols}, inplace=True)\n",
    "\n",
    "    # Merge by acct\n",
    "    df_long = df_long.merge(df_extract, on='acct', how='left')\n",
    "\n",
    "    # Assign year-specific values\n",
    "    for col in first_cols:\n",
    "        tmp_col = f'{col}_tmp'\n",
    "        new_col = f'first_{col}'\n",
    "\n",
    "        if new_col not in df_long:\n",
    "            df_long[new_col] = np.nan\n",
    "\n",
    "        df_long.loc[df_long['year'] == year, new_col] = df_long.loc[df_long['year'] == year, tmp_col]\n",
    "        df_long.drop(columns=[tmp_col], inplace=True)"
   ]
  },
  {
   "cell_type": "code",
   "execution_count": null,
   "metadata": {},
   "outputs": [],
   "source": [
    "df_long"
   ]
  },
  {
   "cell_type": "code",
   "execution_count": null,
   "metadata": {},
   "outputs": [],
   "source": [
    "# Initialize a set to track seen accounts\n",
    "seen_accts = set()\n",
    "\n",
    "# Start with a copy of df_long to add 'end_' columns to\n",
    "df_long_end = df_long.copy()\n",
    "\n",
    "# Create placeholders for all end_ columns\n",
    "for col in first_cols:\n",
    "    df_long_end[f'end_{col}'] = np.nan\n"
   ]
  },
  {
   "cell_type": "code",
   "execution_count": null,
   "metadata": {},
   "outputs": [],
   "source": [
    "\n",
    "# Loop in reverse order: 2019 → 2015\n",
    "for year, df_source in reversed(list(year_df_map.items())):\n",
    "    # Find accounts in this year that haven't been assigned yet\n",
    "    df_year_accts = df_source[['acct']].copy()\n",
    "    new_accts = df_year_accts[~df_year_accts['acct'].isin(seen_accts)]\n",
    "\n",
    "    # Keep track of which accounts we've already assigned from later years\n",
    "    seen_accts.update(new_accts['acct'])\n",
    "\n",
    "    # Pull and rename cols → tmp\n",
    "    df_extract = df_source[['acct'] + first_cols].copy()\n",
    "    df_extract.rename(columns={col: f'{col}_tmp' for col in first_cols}, inplace=True)\n",
    "\n",
    "    # Merge with current df_long_end\n",
    "    df_long_end = df_long_end.merge(df_extract, on='acct', how='left')\n",
    "\n",
    "    # Assign values for those just-seen accounts\n",
    "    for col in first_cols:\n",
    "        tmp_col = f'{col}_tmp'\n",
    "        end_col = f'end_{col}'\n",
    "\n",
    "        mask = df_long_end['acct'].isin(new_accts['acct'])\n",
    "        df_long_end.loc[mask, end_col] = df_long_end.loc[mask, tmp_col]\n",
    "\n",
    "        df_long_end.drop(columns=[tmp_col], inplace=True)"
   ]
  },
  {
   "cell_type": "code",
   "execution_count": null,
   "metadata": {},
   "outputs": [],
   "source": [
    "df_long_end"
   ]
  },
  {
   "cell_type": "code",
   "execution_count": null,
   "metadata": {},
   "outputs": [],
   "source": [
    "for col in first_cols:\n",
    "    start_col = f'first_{col}'\n",
    "    end_col = f'end_{col}'\n",
    "    delta_col = f'delta_{col}'\n",
    "\n",
    "    df_long_end[delta_col] = df_long_end[end_col] - df_long_end[start_col]"
   ]
  },
  {
   "cell_type": "code",
   "execution_count": null,
   "metadata": {},
   "outputs": [],
   "source": [
    "df_long_end['acct'].nunique()"
   ]
  },
  {
   "cell_type": "code",
   "execution_count": 22,
   "metadata": {},
   "outputs": [
    {
     "data": {
      "text/plain": [
       "1046882"
      ]
     },
     "execution_count": 22,
     "metadata": {},
     "output_type": "execute_result"
    }
   ],
   "source": [
    "df['acct'].nunique()"
   ]
  },
  {
   "cell_type": "code",
   "execution_count": 31,
   "metadata": {},
   "outputs": [
    {
     "name": "stdout",
     "output_type": "stream",
     "text": [
      "<class 'pandas.core.frame.DataFrame'>\n",
      "RangeIndex: 990765 entries, 0 to 990764\n",
      "Data columns (total 36 columns):\n",
      " #   Column                  Non-Null Count   Dtype  \n",
      "---  ------                  --------------   -----  \n",
      " 0   acct                    990765 non-null  object \n",
      " 1   floor_area_primary      990764 non-null  float64\n",
      " 2   floor_area_upper        990764 non-null  float64\n",
      " 3   floor_area_lower        990764 non-null  float64\n",
      " 4   garage_area             990764 non-null  float64\n",
      " 5   porch_area              990764 non-null  float64\n",
      " 6   deck_area               990764 non-null  float64\n",
      " 7   mobile_home_area        990764 non-null  float64\n",
      " 8   floors                  990763 non-null  float64\n",
      " 9   half_bath               990763 non-null  float64\n",
      " 10  full_bath               990763 non-null  float64\n",
      " 11  total_rooms             990763 non-null  float64\n",
      " 12  bedrooms                990763 non-null  float64\n",
      " 13  fireplaces              990763 non-null  float64\n",
      " 14  elevator                990763 non-null  Int64  \n",
      " 15  quality                 987070 non-null  float64\n",
      " 16  quality_description     987070 non-null  float64\n",
      " 17  year_built              987070 non-null  float64\n",
      " 18  year_remodeled          987070 non-null  float64\n",
      " 19  building_condition      988868 non-null  float64\n",
      " 20  grade                   988870 non-null  float64\n",
      " 21  has_cooling             988868 non-null  Int64  \n",
      " 22  has_heat                988868 non-null  Int64  \n",
      " 23  physical_condition      988866 non-null  float64\n",
      " 24  year                    988871 non-null  float64\n",
      " 25  foundation_Basement     990765 non-null  Int64  \n",
      " 26  foundation_Crawl Space  990765 non-null  Int64  \n",
      " 27  foundation_Mixed        990765 non-null  Int64  \n",
      " 28  foundation_Slab         990765 non-null  Int64  \n",
      " 29  brick_veneer            990765 non-null  int8   \n",
      " 30  brick_masonry           990765 non-null  int8   \n",
      " 31  concrete_block          990765 non-null  int8   \n",
      " 32  vinyl                   990765 non-null  int8   \n",
      " 33  stucco                  990765 non-null  int8   \n",
      " 34  stone                   990765 non-null  int8   \n",
      " 35  other                   990765 non-null  int8   \n",
      "dtypes: Int64(7), float64(21), int8(7), object(1)\n",
      "memory usage: 232.4+ MB\n"
     ]
    }
   ],
   "source": [
    "df15.info()"
   ]
  },
  {
   "cell_type": "code",
   "execution_count": null,
   "metadata": {},
   "outputs": [],
   "source": [
    "df_long_end.to_csv('../data/pc/merge_data.csv',index=None)"
   ]
  },
  {
   "cell_type": "code",
   "execution_count": null,
   "metadata": {},
   "outputs": [],
   "source": [
    "train = TRAINING_SAMPLES.copy(deep=True)\n",
    "test = TEST_POINTS.copy(deep=True)"
   ]
  },
  {
   "cell_type": "code",
   "execution_count": 33,
   "metadata": {},
   "outputs": [
    {
     "ename": "",
     "evalue": "",
     "output_type": "error",
     "traceback": [
      "\u001b[1;31mThe Kernel crashed while executing code in the current cell or a previous cell. \n",
      "\u001b[1;31mPlease review the code in the cell(s) to identify a possible cause of the failure. \n",
      "\u001b[1;31mClick <a href='https://aka.ms/vscodeJupyterKernelCrash'>here</a> for more info. \n",
      "\u001b[1;31mView Jupyter <a href='command:jupyter.viewOutput'>log</a> for further details."
     ]
    }
   ],
   "source": [
    "train = train.merge(df_long_end, on = 'acct', how = 'left')"
   ]
  },
  {
   "cell_type": "code",
   "execution_count": null,
   "metadata": {},
   "outputs": [],
   "source": [
    "test = test.merge(df_long_end, on = 'acct', how = 'left')"
   ]
  }
 ],
 "metadata": {
  "kernelspec": {
   "display_name": "Advent Python=3.10.0",
   "language": "python",
   "name": "advent"
  },
  "language_info": {
   "codemirror_mode": {
    "name": "ipython",
    "version": 3
   },
   "file_extension": ".py",
   "mimetype": "text/x-python",
   "name": "python",
   "nbconvert_exporter": "python",
   "pygments_lexer": "ipython3",
   "version": "3.10.0"
  }
 },
 "nbformat": 4,
 "nbformat_minor": 5
}
