{
 "cells": [
  {
   "cell_type": "code",
   "execution_count": 1,
   "metadata": {},
   "outputs": [],
   "source": [
    "%load_ext autoreload\n",
    "%autoreload 2\n",
    "\n",
    "import numpy as np\n",
    "import pandas as pd\n",
    "import seaborn as sns\n",
    "import matplotlib\n",
    "import matplotlib.pyplot as plt\n",
    "%matplotlib inline\n",
    "\n",
    "import warnings\n",
    "import src.workfile_functions as wf\n",
    "\n",
    "warnings.filterwarnings('ignore')\n",
    "\n",
    "pd.set_option('display.max_columns',50)\n",
    "pd.set_option('display.max_rows',100)"
   ]
  },
  {
   "cell_type": "code",
   "execution_count": 2,
   "metadata": {},
   "outputs": [],
   "source": [
    "train = pd.read_csv('../data/pc/train.csv',index_col=None)"
   ]
  },
  {
   "cell_type": "code",
   "execution_count": 3,
   "metadata": {},
   "outputs": [
    {
     "data": {
      "text/html": [
       "<div>\n",
       "<style scoped>\n",
       "    .dataframe tbody tr th:only-of-type {\n",
       "        vertical-align: middle;\n",
       "    }\n",
       "\n",
       "    .dataframe tbody tr th {\n",
       "        vertical-align: top;\n",
       "    }\n",
       "\n",
       "    .dataframe thead th {\n",
       "        text-align: right;\n",
       "    }\n",
       "</style>\n",
       "<table border=\"1\" class=\"dataframe\">\n",
       "  <thead>\n",
       "    <tr style=\"text-align: right;\">\n",
       "      <th></th>\n",
       "      <th>first_floor_area_primary</th>\n",
       "      <th>end_floor_area_primary</th>\n",
       "      <th>delta_floor_area_primary</th>\n",
       "    </tr>\n",
       "  </thead>\n",
       "  <tbody>\n",
       "    <tr>\n",
       "      <th>298827</th>\n",
       "      <td>1254.0</td>\n",
       "      <td>1254.0</td>\n",
       "      <td>0.0</td>\n",
       "    </tr>\n",
       "    <tr>\n",
       "      <th>10107</th>\n",
       "      <td>1459.0</td>\n",
       "      <td>1459.0</td>\n",
       "      <td>0.0</td>\n",
       "    </tr>\n",
       "    <tr>\n",
       "      <th>491260</th>\n",
       "      <td>3444.0</td>\n",
       "      <td>3444.0</td>\n",
       "      <td>0.0</td>\n",
       "    </tr>\n",
       "    <tr>\n",
       "      <th>26515</th>\n",
       "      <td>2125.0</td>\n",
       "      <td>2125.0</td>\n",
       "      <td>0.0</td>\n",
       "    </tr>\n",
       "  </tbody>\n",
       "</table>\n",
       "</div>"
      ],
      "text/plain": [
       "        first_floor_area_primary  end_floor_area_primary  \\\n",
       "298827                    1254.0                  1254.0   \n",
       "10107                     1459.0                  1459.0   \n",
       "491260                    3444.0                  3444.0   \n",
       "26515                     2125.0                  2125.0   \n",
       "\n",
       "        delta_floor_area_primary  \n",
       "298827                       0.0  \n",
       "10107                        0.0  \n",
       "491260                       0.0  \n",
       "26515                        0.0  "
      ]
     },
     "execution_count": 3,
     "metadata": {},
     "output_type": "execute_result"
    }
   ],
   "source": [
    "train[[\n",
    "        'first_floor_area_primary',\n",
    "        'end_floor_area_primary',\n",
    "        'delta_floor_area_primary'\n",
    "]].sample(4)"
   ]
  },
  {
   "cell_type": "code",
   "execution_count": 4,
   "metadata": {},
   "outputs": [
    {
     "data": {
      "text/html": [
       "<div>\n",
       "<style scoped>\n",
       "    .dataframe tbody tr th:only-of-type {\n",
       "        vertical-align: middle;\n",
       "    }\n",
       "\n",
       "    .dataframe tbody tr th {\n",
       "        vertical-align: top;\n",
       "    }\n",
       "\n",
       "    .dataframe thead th {\n",
       "        text-align: right;\n",
       "    }\n",
       "</style>\n",
       "<table border=\"1\" class=\"dataframe\">\n",
       "  <thead>\n",
       "    <tr style=\"text-align: right;\">\n",
       "      <th></th>\n",
       "      <th>foundation_Basement</th>\n",
       "      <th>foundation_Crawl Space</th>\n",
       "      <th>foundation_Slab</th>\n",
       "      <th>foundation_Mixed</th>\n",
       "    </tr>\n",
       "  </thead>\n",
       "  <tbody>\n",
       "    <tr>\n",
       "      <th>396548</th>\n",
       "      <td>0.0</td>\n",
       "      <td>0.0</td>\n",
       "      <td>1.0</td>\n",
       "      <td>0.0</td>\n",
       "    </tr>\n",
       "    <tr>\n",
       "      <th>282518</th>\n",
       "      <td>0.0</td>\n",
       "      <td>0.0</td>\n",
       "      <td>1.0</td>\n",
       "      <td>0.0</td>\n",
       "    </tr>\n",
       "    <tr>\n",
       "      <th>585670</th>\n",
       "      <td>0.0</td>\n",
       "      <td>0.0</td>\n",
       "      <td>1.0</td>\n",
       "      <td>0.0</td>\n",
       "    </tr>\n",
       "    <tr>\n",
       "      <th>360593</th>\n",
       "      <td>0.0</td>\n",
       "      <td>0.0</td>\n",
       "      <td>1.0</td>\n",
       "      <td>0.0</td>\n",
       "    </tr>\n",
       "  </tbody>\n",
       "</table>\n",
       "</div>"
      ],
      "text/plain": [
       "        foundation_Basement  foundation_Crawl Space  foundation_Slab  \\\n",
       "396548                  0.0                     0.0              1.0   \n",
       "282518                  0.0                     0.0              1.0   \n",
       "585670                  0.0                     0.0              1.0   \n",
       "360593                  0.0                     0.0              1.0   \n",
       "\n",
       "        foundation_Mixed  \n",
       "396548               0.0  \n",
       "282518               0.0  \n",
       "585670               0.0  \n",
       "360593               0.0  "
      ]
     },
     "execution_count": 4,
     "metadata": {},
     "output_type": "execute_result"
    }
   ],
   "source": [
    "train[[\n",
    "    'foundation_Basement',\n",
    "    'foundation_Crawl Space',\n",
    "    'foundation_Slab',\n",
    "    'foundation_Mixed'\n",
    "]].sample(4)"
   ]
  },
  {
   "cell_type": "markdown",
   "metadata": {},
   "source": [
    "# Scores"
   ]
  },
  {
   "cell_type": "code",
   "execution_count": 15,
   "metadata": {},
   "outputs": [],
   "source": [
    "data = {\n",
    "    'Model': [\n",
    "        'OLS', 'LASSO', 'Ridge', 'RidgeCV',\n",
    "        'XGBR','XGBR_GS','LGBM','Ensemble',\n",
    "        'Stack_1','Stack_2','Stack_3'\n",
    "    ],\n",
    "    'Train RMSE': [\n",
    "        42103.47, 48757.61, 42101.38, 42101.38,\n",
    "        24121.34, 40700.99, 42000.00, 41068.07,\n",
    "        43313.99, 37393.21, 33441.12\n",
    "    ],\n",
    "    'Test RMSE (Public)': [\n",
    "        48478.35, 46676.85, 48857.30, 47080.00,\n",
    "        42143.88, 43196.91, 170263.72, 44709.20,\n",
    "        43589.06, 42896.77, 45241.33\n",
    "    ],\n",
    "    'Test RMSE (Private)': [\n",
    "        46903.05, 45345.82, 47746.13, 45075.56,\n",
    "        43759.64, 44054.83, 174621.3, 44458.82,\n",
    "        44946.14, 44380.56, 44128.42\n",
    "    ]\n",
    "}"
   ]
  },
  {
   "cell_type": "code",
   "execution_count": 16,
   "metadata": {},
   "outputs": [],
   "source": [
    "df = pd.DataFrame(data)"
   ]
  },
  {
   "cell_type": "code",
   "execution_count": 19,
   "metadata": {},
   "outputs": [],
   "source": [
    "df_melted = df.melt(id_vars='Model', value_vars=['Train RMSE', 'Test RMSE (Public)', 'Test RMSE (Private)'],\n",
    "                    var_name='Metric', value_name='RMSE')"
   ]
  },
  {
   "cell_type": "code",
   "execution_count": 20,
   "metadata": {},
   "outputs": [],
   "source": [
    "sns.set(style=\"whitegrid\", rc={\"axes.facecolor\": \"#ebebeb\"})  # slightly grayer"
   ]
  },
  {
   "cell_type": "code",
   "execution_count": 25,
   "metadata": {},
   "outputs": [
    {
     "data": {
      "image/png": "[encoded data removed]",
      "text/plain": [
       "<Figure size 1008x432 with 1 Axes>"
      ]
     },
     "metadata": {},
     "output_type": "display_data"
    }
   ],
   "source": [
    "plt.figure(figsize=(14, 6))\n",
    "# sns.set(style=\"whitegrid\", rc={\"axes.facecolor\": \"#d3d3d3\"})  # slightly darker gray\n",
    "sns.set(style=\"whitegrid\", rc={\n",
    "    \"axes.facecolor\": \"#d3d3d3\",    # inside the plot\n",
    "    \"figure.facecolor\": \"#d3d3d3\",  # everything around it\n",
    "    \"grid.color\": \"black\",\n",
    "    \"grid.linewidth\": 0.5\n",
    "})\n",
    "\n",
    "bar = sns.barplot(data=df_melted, x='Model', y='RMSE', hue='Metric', palette='mako')\n",
    "\n",
    "# Add value labels\n",
    "# for p in bar.patches:\n",
    "#     height = p.get_height()\n",
    "#     if not pd.isna(height):\n",
    "#         bar.annotate(f'{height:,.0f}',\n",
    "#                      (p.get_x() + p.get_width() / 2, height),\n",
    "#                      ha='center', va='bottom', fontsize=9)\n",
    "\n",
    "# Add horizontal line for best (lowest) Test RMSE\n",
    "min_test_rmse_pub = df['Test RMSE (Public)'].min()\n",
    "plt.axhline(min_test_rmse_pub, linestyle='--', color='darkgreen', linewidth=1.5, label='Best Test RMSE (Public) = 42,144')\n",
    "\n",
    "# same but for private leaderboard\n",
    "min_test_rmse_priv = df['Test RMSE (Private)'].min()\n",
    "plt.axhline(min_test_rmse_priv, linestyle='--', color='darkblue', linewidth=1.5, label='Best Test RMSE (Private) = 43,760')\n",
    "\n",
    "plt.grid(True, color='black', linewidth=0.5)\n",
    "\n",
    "# Bold titles and labels\n",
    "plt.legend()\n",
    "plt.title(\"Train vs Test RMSE by Model\", fontweight='bold', fontsize=14)\n",
    "plt.ylabel(\"RMSE\", fontweight='bold')\n",
    "plt.xlabel(\"Model\", fontweight='bold')\n",
    "plt.xticks(rotation=45, ha='right')\n",
    "plt.tight_layout()\n",
    "plt.show();"
   ]
  }
 ],
 "metadata": {
  "kernelspec": {
   "display_name": "pc_Python=3.10.0",
   "language": "python",
   "name": "pc"
  },
  "language_info": {
   "codemirror_mode": {
    "name": "ipython",
    "version": 3
   },
   "file_extension": ".py",
   "mimetype": "text/x-python",
   "name": "python",
   "nbconvert_exporter": "python",
   "pygments_lexer": "ipython3",
   "version": "3.8.5"
  }
 },
 "nbformat": 4,
 "nbformat_minor": 4
}
